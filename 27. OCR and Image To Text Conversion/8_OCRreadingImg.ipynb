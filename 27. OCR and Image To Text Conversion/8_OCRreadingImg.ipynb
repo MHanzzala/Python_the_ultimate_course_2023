{
 "cells": [
  {
   "cell_type": "code",
   "execution_count": 17,
   "id": "141b9308",
   "metadata": {},
   "outputs": [
    {
     "name": "stdout",
     "output_type": "stream",
     "text": [
      "Company Name INVOICE\n",
      "\n",
      "MrHamsho Company\n",
      "\n",
      "George 3 Street INVOICE # 51\n",
      "City, ST ZIP Code DATE 30.09.2022\n",
      "Phone Enter phone | Fax Enter fax\n",
      "\n",
      "Email | Website\n",
      "\n",
      "JOHN FINGS\n",
      "\n",
      "KTS Limited\n",
      "\n",
      "Washington str\n",
      "\n",
      "NYC 88221\n",
      "\n",
      "+123 555752 JOHN@KTS.com\n",
      "\n",
      " \n",
      "\n",
      "Description Unit Price Amount Total Pirce\n",
      "Resin Printer M821 389 ] 389\n",
      "FDM Printer Z7432 1099 ] 1099\n",
      "PLA Filement 1KG Black 40 2 80\n",
      "PLA Filement 1KG WHITE 40 ] 40\n",
      "PLA Filement 1KG RED 40 ] 40\n",
      "PLA Filement 1KG 40 2 80\n",
      "Resin White 1L 69 ] 69\n",
      "Resin Black 0.5L 39 1 39\n",
      "Resin Skin 1L 73 ] 73\n",
      "1909 11\n",
      "\n",
      "Make all checks payable to Company Name\n",
      "Payment is due within 30 days.\n",
      "If you have any questions concerning this invoice, contact Name | Phone | Email\n",
      "\n",
      "THANK YOU FOR YOUR BUSINESS!\n",
      "\f",
      "\n"
     ]
    }
   ],
   "source": [
    "import pytesseract\n",
    "from pytesseract import Output\n",
    "import cv2\n",
    "\n",
    "\n",
    "pytesseract.pytesseract.tesseract_cmd = r\"C:\\Program Files\\Tesseract-OCR\\tesseract.exe\"\n",
    "\n",
    "img= cv2.imread(\"D:\\\\My Files\\\\Courses\\\\Python\\\\67_OCR\\\\invoice1.png\")\n",
    "\n",
    "text = pytesseract.image_to_string(img)\n",
    "print(text)\n",
    "\n",
    "#data = pytesseract.image_to_data(img, output_type=Output.DICT)\n",
    "#print(data[\"text\"])\n"
   ]
  },
  {
   "cell_type": "code",
   "execution_count": null,
   "id": "998c2fdf",
   "metadata": {},
   "outputs": [],
   "source": []
  }
 ],
 "metadata": {
  "kernelspec": {
   "display_name": "Python 3 (ipykernel)",
   "language": "python",
   "name": "python3"
  },
  "language_info": {
   "codemirror_mode": {
    "name": "ipython",
    "version": 3
   },
   "file_extension": ".py",
   "mimetype": "text/x-python",
   "name": "python",
   "nbconvert_exporter": "python",
   "pygments_lexer": "ipython3",
   "version": "3.8.3"
  }
 },
 "nbformat": 4,
 "nbformat_minor": 5
}
