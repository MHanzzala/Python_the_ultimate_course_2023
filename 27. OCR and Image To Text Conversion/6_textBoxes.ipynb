{
 "cells": [
  {
   "cell_type": "code",
   "execution_count": null,
   "id": "1479dd52",
   "metadata": {},
   "outputs": [
    {
     "name": "stdout",
     "output_type": "stream",
     "text": [
      "[0, 102, 102, 102, 102, 302, 1286, 100, 100, 100, 100, 268, 102, 102, 102, 102, 226, 251, 1407, 1541, 1568, 102, 102, 175, 212, 261, 1369, 1449, 102, 102, 206, 289, 402, 424, 483, 564, 102, 102, 102, 196, 217, 101, 101, 101, 101, 195, 102, 102, 102, 157, 101, 101, 101, 285, 102, 102, 102, 175, 101, 101, 101, 179, 298, 104, 104, 104, 104, 102, 102, 102, 102, 891, 954, 1258, 1450, 1529, 103, 103, 187, 285, 890, 1361, 1551, 103, 103, 177, 275, 893, 1361, 1537, 102, 102, 164, 298, 368, 890, 1358, 1567, 102, 102, 164, 298, 366, 890, 1361, 1567, 102, 102, 164, 298, 368, 890, 1361, 1567, 102, 102, 164, 298, 890, 1358, 1567, 103, 103, 186, 278, 891, 1361, 1568, 103, 103, 187, 277, 872, 1361, 1567, 103, 103, 186, 256, 891, 1361, 1568, 103, 103, 1342, 102, 102, 102, 102, 194, 236, 350, 483, 523, 682, 103, 103, 243, 269, 336, 431, 473, 102, 102, 126, 191, 275, 339, 485, 665, 720, 845, 975, 1082, 1104, 1214, 1237, 612, 612, 612, 612, 719, 793, 860, 953]\n"
     ]
    }
   ],
   "source": [
    "import pytesseract\n",
    "from pytesseract import Output\n",
    "import cv2\n",
    "\n",
    "\n",
    "pytesseract.pytesseract.tesseract_cmd = r\"C:\\Program Files\\Tesseract-OCR\\tesseract.exe\"\n",
    "\n",
    "img= cv2.imread(\"D:\\\\My Files\\\\Courses\\\\Python\\\\67_OCR\\\\invoice1.png\")\n",
    "\n",
    "#text = pytesseract.image_to_string(img)\n",
    "#print(text)\n",
    "\n",
    "data = pytesseract.image_to_data(img, output_type=Output.DICT)\n",
    "print(data['left'])\n",
    "for i in range(0, len(data['left'])):\n",
    "    x,y,w,h = data['left'][i], data['top'][i] , data['width'][i], data['height'][i]\n",
    "    img = cv2.rectangle(img, (x,y), (x+w, y+h), (255,0,255), 1)\n",
    "\n",
    "cv2.imshow('img', img)\n",
    "cv2.waitKey(0)\n",
    "\n"
   ]
  },
  {
   "cell_type": "code",
   "execution_count": null,
   "id": "325243cd",
   "metadata": {},
   "outputs": [],
   "source": []
  }
 ],
 "metadata": {
  "kernelspec": {
   "display_name": "Python 3 (ipykernel)",
   "language": "python",
   "name": "python3"
  },
  "language_info": {
   "codemirror_mode": {
    "name": "ipython",
    "version": 3
   },
   "file_extension": ".py",
   "mimetype": "text/x-python",
   "name": "python",
   "nbconvert_exporter": "python",
   "pygments_lexer": "ipython3",
   "version": "3.8.3"
  }
 },
 "nbformat": 4,
 "nbformat_minor": 5
}
