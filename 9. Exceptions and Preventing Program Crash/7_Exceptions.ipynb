{
 "cells": [
  {
   "cell_type": "code",
   "execution_count": 12,
   "id": "4b216762",
   "metadata": {},
   "outputs": [
    {
     "ename": "ZeroDivisionError",
     "evalue": "division by zero",
     "output_type": "error",
     "traceback": [
      "\u001b[1;31m---------------------------------------------------------------------------\u001b[0m",
      "\u001b[1;31mZeroDivisionError\u001b[0m                         Traceback (most recent call last)",
      "\u001b[1;32m~\\AppData\\Local\\Temp/ipykernel_31600/1416163430.py\u001b[0m in \u001b[0;36m<module>\u001b[1;34m\u001b[0m\n\u001b[0;32m      3\u001b[0m \u001b[0mb\u001b[0m\u001b[1;33m=\u001b[0m\u001b[1;36m2\u001b[0m\u001b[1;33m\u001b[0m\u001b[1;33m\u001b[0m\u001b[0m\n\u001b[0;32m      4\u001b[0m \u001b[1;33m\u001b[0m\u001b[0m\n\u001b[1;32m----> 5\u001b[1;33m \u001b[0mc\u001b[0m \u001b[1;33m=\u001b[0m \u001b[0mb\u001b[0m\u001b[1;33m/\u001b[0m\u001b[0ma\u001b[0m\u001b[1;33m\u001b[0m\u001b[1;33m\u001b[0m\u001b[0m\n\u001b[0m\u001b[0;32m      6\u001b[0m \u001b[0mc\u001b[0m\u001b[1;33m=\u001b[0m \u001b[0mb\u001b[0m\u001b[1;33m*\u001b[0m\u001b[0mb\u001b[0m\u001b[1;33m\u001b[0m\u001b[1;33m\u001b[0m\u001b[0m\n\u001b[0;32m      7\u001b[0m \u001b[0mprint\u001b[0m\u001b[1;33m(\u001b[0m\u001b[0mc\u001b[0m\u001b[1;33m)\u001b[0m\u001b[1;33m\u001b[0m\u001b[1;33m\u001b[0m\u001b[0m\n",
      "\u001b[1;31mZeroDivisionError\u001b[0m: division by zero"
     ]
    }
   ],
   "source": [
    "#Intuition to Try Except\n",
    "a=0\n",
    "b=2\n",
    "\n",
    "c = b/a\n",
    "c= b*b\n",
    "print(c)\n"
   ]
  },
  {
   "cell_type": "code",
   "execution_count": 3,
   "id": "dfeb6856",
   "metadata": {},
   "outputs": [
    {
     "name": "stdout",
     "output_type": "stream",
     "text": [
      "This is not possible\n",
      "2.0\n"
     ]
    }
   ],
   "source": [
    "#Exception types\n",
    "a=0\n",
    "b=2\n",
    "try:\n",
    "    c=b/a\n",
    "    \n",
    "except ZeroDivisionError:\n",
    "    a=1\n",
    "    \n",
    "    print(\"This is not possible\")\n",
    "    c=b/a\n",
    "\n",
    " \n",
    "print(c)\n",
    "\n",
    "\n",
    "    "
   ]
  },
  {
   "cell_type": "code",
   "execution_count": 14,
   "id": "a36ad5eb",
   "metadata": {},
   "outputs": [
    {
     "name": "stdout",
     "output_type": "stream",
     "text": [
      "Variable is not yet created\n",
      "3.3333333333333335\n"
     ]
    }
   ],
   "source": [
    "#Except Name Error\n",
    "a=10\n",
    "b=2\n",
    "i=3\n",
    "try:\n",
    "    c=a/x\n",
    "except NameError:\n",
    "    c=a/i\n",
    "    print(\"Variable is not yet created\")\n",
    "\n",
    "print(c)"
   ]
  },
  {
   "cell_type": "code",
   "execution_count": 16,
   "id": "5f10b7d3",
   "metadata": {},
   "outputs": [
    {
     "name": "stdout",
     "output_type": "stream",
     "text": [
      "100\n"
     ]
    }
   ],
   "source": [
    "#Except Else\n",
    "a=10\n",
    "b=2\n",
    "i=3\n",
    "x=5\n",
    "try:\n",
    "    c=a/x\n",
    "except NameError:\n",
    "    c=a/i\n",
    "    print(\"Variable is not yet created\")\n",
    "else:\n",
    "    x=100\n",
    "    print(x)\n",
    "\n",
    "\n"
   ]
  },
  {
   "cell_type": "code",
   "execution_count": 1,
   "id": "946af75b",
   "metadata": {},
   "outputs": [
    {
     "name": "stdout",
     "output_type": "stream",
     "text": [
      "Variable is not yet created\n",
      "I will be executed no matter what!\n"
     ]
    }
   ],
   "source": [
    "#Except Else Finally\n",
    "a=10\n",
    "b=2\n",
    "i=3\n",
    "\n",
    "try:\n",
    "    c=a/x\n",
    "except NameError:\n",
    "    c=a/i\n",
    "    print(\"Variable is not yet created\")\n",
    "else:\n",
    "    x=100\n",
    "    print(x)\n",
    "\n",
    "finally:\n",
    "    print(\"I will be executed no matter what!\")\n",
    "    \n"
   ]
  },
  {
   "cell_type": "code",
   "execution_count": 2,
   "id": "1361beb4",
   "metadata": {},
   "outputs": [
    {
     "name": "stdout",
     "output_type": "stream",
     "text": [
      "I am trying to create a folder\n",
      "Put 5 files in that folder!\n",
      "Folder created successfuly!\n"
     ]
    }
   ],
   "source": [
    "#Mock example\n",
    "# i wanna create a folder that contains 5 files\n",
    "# There is a chance that this folder is already created by a previoous program run\n",
    "\n",
    "try:\n",
    "    print(\"I am trying to create a folder\")\n",
    "    \n",
    "except:\n",
    "    print(\"folder does exist! cannot be created\")\n",
    "\n",
    "else:\n",
    "    print(\"Put 5 files in that folder!\")\n",
    "\n",
    "\n",
    "finally:\n",
    "    print(\"Folder created successfuly!\")\n"
   ]
  },
  {
   "cell_type": "code",
   "execution_count": 2,
   "id": "8e1e9f1c",
   "metadata": {},
   "outputs": [
    {
     "name": "stdout",
     "output_type": "stream",
     "text": [
      "name 'x' is not defined\n"
     ]
    }
   ],
   "source": [
    "a=0\n",
    "b=2\n",
    "try:\n",
    "    c=b/x\n",
    "    \n",
    "except Exception as e:\n",
    "    print(e)\n"
   ]
  },
  {
   "cell_type": "code",
   "execution_count": 2,
   "id": "5681d59a",
   "metadata": {},
   "outputs": [
    {
     "name": "stdout",
     "output_type": "stream",
     "text": [
      "unsupported operand type(s) for /: 'int' and 'str'\n",
      "Sorry but an error occured. Exiting\n"
     ]
    }
   ],
   "source": [
    "import sys\n",
    "a=\"0\"\n",
    "b=5\n",
    "\n",
    "try:\n",
    "    c=b/a\n",
    "except NameError:\n",
    "    print(\"Variable Does not Exist!\")\n",
    "    print(\"Creating Variable\")\n",
    "    a=1\n",
    "    c=b/a\n",
    "except ZeroDivisionError:\n",
    "    print(\"Cannot be divided by zero.\")\n",
    "    print(\"Adjusting Value..\")\n",
    "    a=1\n",
    "    c=b/a\n",
    "except Exception as e:\n",
    "    print(e)\n",
    "    print(\"Sorry but an error occured. Exiting\")\n",
    "\n",
    "else:\n",
    "    print(c)"
   ]
  },
  {
   "cell_type": "code",
   "execution_count": 7,
   "id": "537f73b9",
   "metadata": {},
   "outputs": [
    {
     "name": "stdout",
     "output_type": "stream",
     "text": [
      "1st element is smaller. Raising an exception\n"
     ]
    }
   ],
   "source": [
    "class CustomEx(Exception):\n",
    "    pass\n",
    "\n",
    "class ElementDoesNotExist (CustomEx):\n",
    "    pass\n",
    "\n",
    "class firstElementIsSmallerThanSecond(CustomEx):\n",
    "    pass\n",
    "\n",
    "\n",
    "l= [1,2,3,4,5]\n",
    "\n",
    "try:\n",
    "    if not 3 in l:\n",
    "        raise  ElementDoesNotExist\n",
    "    elif l[0]<l[1]:\n",
    "        raise firstElementIsSmallerThanSecond\n",
    "        \n",
    "except ElementDoesNotExist:\n",
    "    print(\"Element Does not Exist. Raising an Exception\")\n",
    "\n",
    "except firstElementIsSmallerThanSecond:\n",
    "    print(\"1st element is smaller. Raising an exception\")\n",
    "else:\n",
    "    print(\"Success element exist!\")"
   ]
  },
  {
   "cell_type": "code",
   "execution_count": null,
   "id": "59abefe3",
   "metadata": {},
   "outputs": [],
   "source": [
    " "
   ]
  }
 ],
 "metadata": {
  "kernelspec": {
   "display_name": "Python 3 (ipykernel)",
   "language": "python",
   "name": "python3"
  },
  "language_info": {
   "codemirror_mode": {
    "name": "ipython",
    "version": 3
   },
   "file_extension": ".py",
   "mimetype": "text/x-python",
   "name": "python",
   "nbconvert_exporter": "python",
   "pygments_lexer": "ipython3",
   "version": "3.8.3"
  }
 },
 "nbformat": 4,
 "nbformat_minor": 5
}
