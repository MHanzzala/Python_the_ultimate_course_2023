{
 "cells": [
  {
   "cell_type": "code",
   "execution_count": 38,
   "id": "e3cad22e",
   "metadata": {},
   "outputs": [
    {
     "data": {
      "text/plain": [
       "<matplotlib.collections.PathCollection at 0x1e86b5b6430>"
      ]
     },
     "execution_count": 38,
     "metadata": {},
     "output_type": "execute_result"
    },
    {
     "data": {
      "image/png": "[encoded data removed]",
      "text/plain": [
       "<Figure size 432x288 with 1 Axes>"
      ]
     },
     "metadata": {
      "needs_background": "light"
     },
     "output_type": "display_data"
    }
   ],
   "source": [
    "import matplotlib.pyplot as plt\n",
    "import numpy as np\n",
    "\n",
    "def addOutlier(l, outlier):\n",
    "    l=list(l)\n",
    "    for item in outlier:\n",
    "        l.append(item)\n",
    "    return l\n",
    "\n",
    "rng = np.random.RandomState()\n",
    "\n",
    "\n",
    "x = 10*rng.rand(50)\n",
    "y = 2*x*x*x -x*x+x +  rng.rand(50)\n",
    "outlierX=[0.2,4,8, 9]\n",
    "outlierY=[5,2.5,17.5, 2.7]\n",
    "\n",
    "x= addOutlier(x,outlierX)\n",
    "y= addOutlier(y,outlierY)\n",
    "plt.scatter(x,y)"
   ]
  },
  {
   "cell_type": "code",
   "execution_count": 19,
   "id": "f75fe795",
   "metadata": {},
   "outputs": [
    {
     "name": "stdout",
     "output_type": "stream",
     "text": [
      "[9.60222803 1.85951724 9.89117632 8.75956762 4.61727546 4.3301931\n",
      " 5.23791387 1.48228528 7.09372214 2.83063133 6.90217748 9.23297902\n",
      " 2.98226741 5.94895157 5.67186328 1.57831541 2.65028676 2.32894501\n",
      " 8.25294119 7.52151798 2.96305025 5.28616019 0.96584492 4.5627448\n",
      " 1.10124895 4.82758336 7.67972389 0.67253657 1.77475652 6.20871182\n",
      " 2.60503514 7.11917262 9.30948482 2.05283009 8.02359482 3.80611237\n",
      " 1.53258492 1.98716409 5.3866343  0.37495637 6.4048103  7.84741049\n",
      " 8.52547172 8.66806578 2.82739898 5.62212423 2.31571879 3.88644309\n",
      " 2.254808   7.33396658]\n"
     ]
    }
   ],
   "source": [
    "print(x)"
   ]
  },
  {
   "cell_type": "code",
   "execution_count": null,
   "id": "418765c1",
   "metadata": {},
   "outputs": [],
   "source": []
  }
 ],
 "metadata": {
  "kernelspec": {
   "display_name": "Python 3 (ipykernel)",
   "language": "python",
   "name": "python3"
  },
  "language_info": {
   "codemirror_mode": {
    "name": "ipython",
    "version": 3
   },
   "file_extension": ".py",
   "mimetype": "text/x-python",
   "name": "python",
   "nbconvert_exporter": "python",
   "pygments_lexer": "ipython3",
   "version": "3.8.3"
  }
 },
 "nbformat": 4,
 "nbformat_minor": 5
}
