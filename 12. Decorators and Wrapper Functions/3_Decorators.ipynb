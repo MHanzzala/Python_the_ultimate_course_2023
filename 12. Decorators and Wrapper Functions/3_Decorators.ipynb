{
 "cells": [
  {
   "cell_type": "code",
   "execution_count": 3,
   "id": "f7e45c27",
   "metadata": {},
   "outputs": [
    {
     "name": "stdout",
     "output_type": "stream",
     "text": [
      "----------This is a report for your formula------------\n",
      "You X variable is: 2\n",
      "You Y variable is: 3\n",
      "The result of your formula is  9.0\n"
     ]
    }
   ],
   "source": [
    "def printOutputReport(func):\n",
    "    def f(x,y):\n",
    "        z=func(x,y)\n",
    "        print(\"----------This is a report for your formula------------\")\n",
    "        print(\"You X variable is:\", x)\n",
    "        print(\"You Y variable is:\", y)\n",
    "        print(\"The result of your formula is \", z)\n",
    "    return f\n",
    " \n",
    "\n",
    "@printOutputReport\n",
    "def calcFormula1(x,y):\n",
    "    return x*y+x/2 +2\n",
    "\n",
    "@printOutputReport\n",
    "def calcFormula2(x,y):\n",
    "   return  x*x*x +y*y*y +x+y+10\n",
    "\n",
    "\n",
    "\n",
    "calcFormula1(2,3)"
   ]
  },
  {
   "cell_type": "code",
   "execution_count": null,
   "id": "468eb2f7",
   "metadata": {},
   "outputs": [],
   "source": [
    " \n"
   ]
  }
 ],
 "metadata": {
  "kernelspec": {
   "display_name": "Python 3 (ipykernel)",
   "language": "python",
   "name": "python3"
  },
  "language_info": {
   "codemirror_mode": {
    "name": "ipython",
    "version": 3
   },
   "file_extension": ".py",
   "mimetype": "text/x-python",
   "name": "python",
   "nbconvert_exporter": "python",
   "pygments_lexer": "ipython3",
   "version": "3.8.3"
  }
 },
 "nbformat": 4,
 "nbformat_minor": 5
}
